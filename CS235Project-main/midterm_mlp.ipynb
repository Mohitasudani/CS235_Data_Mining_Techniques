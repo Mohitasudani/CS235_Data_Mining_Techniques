{
  "nbformat": 4,
  "nbformat_minor": 0,
  "metadata": {
    "colab": {
      "provenance": []
    },
    "kernelspec": {
      "name": "python3",
      "display_name": "Python 3"
    },
    "language_info": {
      "name": "python"
    }
  },
  "cells": [
    {
      "cell_type": "code",
      "execution_count": 1,
      "metadata": {
        "id": "J_K1NWBNIqm_"
      },
      "outputs": [],
      "source": [
        "import numpy as np\n",
        "import pandas as pd"
      ]
    },
    {
      "cell_type": "code",
      "source": [
        "!pip install fastai\n",
        "from fastai.tabular.all import *"
      ],
      "metadata": {
        "id": "X2RP2BnJIu5b"
      },
      "execution_count": null,
      "outputs": []
    },
    {
      "cell_type": "code",
      "source": [
        "from google.colab import drive\n",
        "drive.mount('/content/gdrive')"
      ],
      "metadata": {
        "colab": {
          "base_uri": "https://localhost:8080/"
        },
        "id": "p89eIrezKMIJ",
        "outputId": "fdb78571-9c11-41e3-ef84-380748aec320"
      },
      "execution_count": 3,
      "outputs": [
        {
          "output_type": "stream",
          "name": "stdout",
          "text": [
            "Mounted at /content/gdrive\n"
          ]
        }
      ]
    },
    {
      "cell_type": "code",
      "source": [
        "cd ../content/gdrive"
      ],
      "metadata": {
        "colab": {
          "base_uri": "https://localhost:8080/"
        },
        "id": "TzREvZqAKhf1",
        "outputId": "e136d890-ae5a-443a-d3db-a51979955ad2"
      },
      "execution_count": 4,
      "outputs": [
        {
          "output_type": "stream",
          "name": "stdout",
          "text": [
            "/content/gdrive\n"
          ]
        }
      ]
    },
    {
      "cell_type": "code",
      "source": [
        "cd MyDrive/dmt_project/"
      ],
      "metadata": {
        "colab": {
          "base_uri": "https://localhost:8080/"
        },
        "id": "J0zT6qjTKkmC",
        "outputId": "606f6f6e-c99b-472f-cc65-b5929d1b690c"
      },
      "execution_count": 5,
      "outputs": [
        {
          "output_type": "stream",
          "name": "stdout",
          "text": [
            "/content/gdrive/MyDrive/dmt_project\n"
          ]
        }
      ]
    },
    {
      "cell_type": "code",
      "source": [
        "df = pd.read_csv(\"data.csv\")"
      ],
      "metadata": {
        "id": "x9dnCoCgMT-G"
      },
      "execution_count": 6,
      "outputs": []
    },
    {
      "cell_type": "code",
      "source": [
        "# Randomise dataset\n",
        "df = df.sample(frac=1).reset_index(drop=True)\n",
        "df.head()"
      ],
      "metadata": {
        "colab": {
          "base_uri": "https://localhost:8080/",
          "height": 317
        },
        "id": "hD2CmeCZMVMr",
        "outputId": "e80bdaec-9a4f-4884-fb0c-68255e6cddb0"
      },
      "execution_count": 7,
      "outputs": [
        {
          "output_type": "execute_result",
          "data": {
            "text/plain": [
              "          id diagnosis  radius_mean  texture_mean  perimeter_mean  area_mean  \\\n",
              "0    8610862         M        20.18         23.97          143.70     1245.0   \n",
              "1  911296201         M        17.08         27.15          111.20      930.9   \n",
              "2    9113156         B        14.40         26.99           92.25      646.1   \n",
              "3     911384         B        14.92         14.93           96.45      686.9   \n",
              "4     892399         B        10.51         23.09           66.85      334.2   \n",
              "\n",
              "   smoothness_mean  compactness_mean  concavity_mean  concave points_mean  \\\n",
              "0          0.12860           0.34540         0.37540              0.16040   \n",
              "1          0.09898           0.11100         0.10070              0.06431   \n",
              "2          0.06995           0.05223         0.03476              0.01737   \n",
              "3          0.08098           0.08549         0.05539              0.03221   \n",
              "4          0.10150           0.06797         0.02495              0.01875   \n",
              "\n",
              "   ...  texture_worst  perimeter_worst  area_worst  smoothness_worst  \\\n",
              "0  ...          31.72            170.3      1623.0            0.1639   \n",
              "1  ...          34.49            152.1      1648.0            0.1600   \n",
              "2  ...          31.98            100.4       734.6            0.1017   \n",
              "3  ...          18.22            112.0       906.6            0.1065   \n",
              "4  ...          24.22             70.1       362.7            0.1143   \n",
              "\n",
              "   compactness_worst  concavity_worst  concave points_worst  symmetry_worst  \\\n",
              "0            0.61640          0.76810               0.25080          0.5440   \n",
              "1            0.24440          0.26390               0.15550          0.3010   \n",
              "2            0.14600          0.14720               0.05563          0.2345   \n",
              "3            0.27910          0.31510               0.11470          0.2688   \n",
              "4            0.08614          0.04158               0.03125          0.2227   \n",
              "\n",
              "   fractal_dimension_worst  Unnamed: 32  \n",
              "0                  0.09964          NaN  \n",
              "1                  0.09060          NaN  \n",
              "2                  0.06464          NaN  \n",
              "3                  0.08273          NaN  \n",
              "4                  0.06777          NaN  \n",
              "\n",
              "[5 rows x 33 columns]"
            ],
            "text/html": [
              "\n",
              "  <div id=\"df-89ab7a4d-5609-40b1-b2bf-da65d9a2bded\">\n",
              "    <div class=\"colab-df-container\">\n",
              "      <div>\n",
              "<style scoped>\n",
              "    .dataframe tbody tr th:only-of-type {\n",
              "        vertical-align: middle;\n",
              "    }\n",
              "\n",
              "    .dataframe tbody tr th {\n",
              "        vertical-align: top;\n",
              "    }\n",
              "\n",
              "    .dataframe thead th {\n",
              "        text-align: right;\n",
              "    }\n",
              "</style>\n",
              "<table border=\"1\" class=\"dataframe\">\n",
              "  <thead>\n",
              "    <tr style=\"text-align: right;\">\n",
              "      <th></th>\n",
              "      <th>id</th>\n",
              "      <th>diagnosis</th>\n",
              "      <th>radius_mean</th>\n",
              "      <th>texture_mean</th>\n",
              "      <th>perimeter_mean</th>\n",
              "      <th>area_mean</th>\n",
              "      <th>smoothness_mean</th>\n",
              "      <th>compactness_mean</th>\n",
              "      <th>concavity_mean</th>\n",
              "      <th>concave points_mean</th>\n",
              "      <th>...</th>\n",
              "      <th>texture_worst</th>\n",
              "      <th>perimeter_worst</th>\n",
              "      <th>area_worst</th>\n",
              "      <th>smoothness_worst</th>\n",
              "      <th>compactness_worst</th>\n",
              "      <th>concavity_worst</th>\n",
              "      <th>concave points_worst</th>\n",
              "      <th>symmetry_worst</th>\n",
              "      <th>fractal_dimension_worst</th>\n",
              "      <th>Unnamed: 32</th>\n",
              "    </tr>\n",
              "  </thead>\n",
              "  <tbody>\n",
              "    <tr>\n",
              "      <th>0</th>\n",
              "      <td>8610862</td>\n",
              "      <td>M</td>\n",
              "      <td>20.18</td>\n",
              "      <td>23.97</td>\n",
              "      <td>143.70</td>\n",
              "      <td>1245.0</td>\n",
              "      <td>0.12860</td>\n",
              "      <td>0.34540</td>\n",
              "      <td>0.37540</td>\n",
              "      <td>0.16040</td>\n",
              "      <td>...</td>\n",
              "      <td>31.72</td>\n",
              "      <td>170.3</td>\n",
              "      <td>1623.0</td>\n",
              "      <td>0.1639</td>\n",
              "      <td>0.61640</td>\n",
              "      <td>0.76810</td>\n",
              "      <td>0.25080</td>\n",
              "      <td>0.5440</td>\n",
              "      <td>0.09964</td>\n",
              "      <td>NaN</td>\n",
              "    </tr>\n",
              "    <tr>\n",
              "      <th>1</th>\n",
              "      <td>911296201</td>\n",
              "      <td>M</td>\n",
              "      <td>17.08</td>\n",
              "      <td>27.15</td>\n",
              "      <td>111.20</td>\n",
              "      <td>930.9</td>\n",
              "      <td>0.09898</td>\n",
              "      <td>0.11100</td>\n",
              "      <td>0.10070</td>\n",
              "      <td>0.06431</td>\n",
              "      <td>...</td>\n",
              "      <td>34.49</td>\n",
              "      <td>152.1</td>\n",
              "      <td>1648.0</td>\n",
              "      <td>0.1600</td>\n",
              "      <td>0.24440</td>\n",
              "      <td>0.26390</td>\n",
              "      <td>0.15550</td>\n",
              "      <td>0.3010</td>\n",
              "      <td>0.09060</td>\n",
              "      <td>NaN</td>\n",
              "    </tr>\n",
              "    <tr>\n",
              "      <th>2</th>\n",
              "      <td>9113156</td>\n",
              "      <td>B</td>\n",
              "      <td>14.40</td>\n",
              "      <td>26.99</td>\n",
              "      <td>92.25</td>\n",
              "      <td>646.1</td>\n",
              "      <td>0.06995</td>\n",
              "      <td>0.05223</td>\n",
              "      <td>0.03476</td>\n",
              "      <td>0.01737</td>\n",
              "      <td>...</td>\n",
              "      <td>31.98</td>\n",
              "      <td>100.4</td>\n",
              "      <td>734.6</td>\n",
              "      <td>0.1017</td>\n",
              "      <td>0.14600</td>\n",
              "      <td>0.14720</td>\n",
              "      <td>0.05563</td>\n",
              "      <td>0.2345</td>\n",
              "      <td>0.06464</td>\n",
              "      <td>NaN</td>\n",
              "    </tr>\n",
              "    <tr>\n",
              "      <th>3</th>\n",
              "      <td>911384</td>\n",
              "      <td>B</td>\n",
              "      <td>14.92</td>\n",
              "      <td>14.93</td>\n",
              "      <td>96.45</td>\n",
              "      <td>686.9</td>\n",
              "      <td>0.08098</td>\n",
              "      <td>0.08549</td>\n",
              "      <td>0.05539</td>\n",
              "      <td>0.03221</td>\n",
              "      <td>...</td>\n",
              "      <td>18.22</td>\n",
              "      <td>112.0</td>\n",
              "      <td>906.6</td>\n",
              "      <td>0.1065</td>\n",
              "      <td>0.27910</td>\n",
              "      <td>0.31510</td>\n",
              "      <td>0.11470</td>\n",
              "      <td>0.2688</td>\n",
              "      <td>0.08273</td>\n",
              "      <td>NaN</td>\n",
              "    </tr>\n",
              "    <tr>\n",
              "      <th>4</th>\n",
              "      <td>892399</td>\n",
              "      <td>B</td>\n",
              "      <td>10.51</td>\n",
              "      <td>23.09</td>\n",
              "      <td>66.85</td>\n",
              "      <td>334.2</td>\n",
              "      <td>0.10150</td>\n",
              "      <td>0.06797</td>\n",
              "      <td>0.02495</td>\n",
              "      <td>0.01875</td>\n",
              "      <td>...</td>\n",
              "      <td>24.22</td>\n",
              "      <td>70.1</td>\n",
              "      <td>362.7</td>\n",
              "      <td>0.1143</td>\n",
              "      <td>0.08614</td>\n",
              "      <td>0.04158</td>\n",
              "      <td>0.03125</td>\n",
              "      <td>0.2227</td>\n",
              "      <td>0.06777</td>\n",
              "      <td>NaN</td>\n",
              "    </tr>\n",
              "  </tbody>\n",
              "</table>\n",
              "<p>5 rows × 33 columns</p>\n",
              "</div>\n",
              "      <button class=\"colab-df-convert\" onclick=\"convertToInteractive('df-89ab7a4d-5609-40b1-b2bf-da65d9a2bded')\"\n",
              "              title=\"Convert this dataframe to an interactive table.\"\n",
              "              style=\"display:none;\">\n",
              "        \n",
              "  <svg xmlns=\"http://www.w3.org/2000/svg\" height=\"24px\"viewBox=\"0 0 24 24\"\n",
              "       width=\"24px\">\n",
              "    <path d=\"M0 0h24v24H0V0z\" fill=\"none\"/>\n",
              "    <path d=\"M18.56 5.44l.94 2.06.94-2.06 2.06-.94-2.06-.94-.94-2.06-.94 2.06-2.06.94zm-11 1L8.5 8.5l.94-2.06 2.06-.94-2.06-.94L8.5 2.5l-.94 2.06-2.06.94zm10 10l.94 2.06.94-2.06 2.06-.94-2.06-.94-.94-2.06-.94 2.06-2.06.94z\"/><path d=\"M17.41 7.96l-1.37-1.37c-.4-.4-.92-.59-1.43-.59-.52 0-1.04.2-1.43.59L10.3 9.45l-7.72 7.72c-.78.78-.78 2.05 0 2.83L4 21.41c.39.39.9.59 1.41.59.51 0 1.02-.2 1.41-.59l7.78-7.78 2.81-2.81c.8-.78.8-2.07 0-2.86zM5.41 20L4 18.59l7.72-7.72 1.47 1.35L5.41 20z\"/>\n",
              "  </svg>\n",
              "      </button>\n",
              "      \n",
              "  <style>\n",
              "    .colab-df-container {\n",
              "      display:flex;\n",
              "      flex-wrap:wrap;\n",
              "      gap: 12px;\n",
              "    }\n",
              "\n",
              "    .colab-df-convert {\n",
              "      background-color: #E8F0FE;\n",
              "      border: none;\n",
              "      border-radius: 50%;\n",
              "      cursor: pointer;\n",
              "      display: none;\n",
              "      fill: #1967D2;\n",
              "      height: 32px;\n",
              "      padding: 0 0 0 0;\n",
              "      width: 32px;\n",
              "    }\n",
              "\n",
              "    .colab-df-convert:hover {\n",
              "      background-color: #E2EBFA;\n",
              "      box-shadow: 0px 1px 2px rgba(60, 64, 67, 0.3), 0px 1px 3px 1px rgba(60, 64, 67, 0.15);\n",
              "      fill: #174EA6;\n",
              "    }\n",
              "\n",
              "    [theme=dark] .colab-df-convert {\n",
              "      background-color: #3B4455;\n",
              "      fill: #D2E3FC;\n",
              "    }\n",
              "\n",
              "    [theme=dark] .colab-df-convert:hover {\n",
              "      background-color: #434B5C;\n",
              "      box-shadow: 0px 1px 3px 1px rgba(0, 0, 0, 0.15);\n",
              "      filter: drop-shadow(0px 1px 2px rgba(0, 0, 0, 0.3));\n",
              "      fill: #FFFFFF;\n",
              "    }\n",
              "  </style>\n",
              "\n",
              "      <script>\n",
              "        const buttonEl =\n",
              "          document.querySelector('#df-89ab7a4d-5609-40b1-b2bf-da65d9a2bded button.colab-df-convert');\n",
              "        buttonEl.style.display =\n",
              "          google.colab.kernel.accessAllowed ? 'block' : 'none';\n",
              "\n",
              "        async function convertToInteractive(key) {\n",
              "          const element = document.querySelector('#df-89ab7a4d-5609-40b1-b2bf-da65d9a2bded');\n",
              "          const dataTable =\n",
              "            await google.colab.kernel.invokeFunction('convertToInteractive',\n",
              "                                                     [key], {});\n",
              "          if (!dataTable) return;\n",
              "\n",
              "          const docLinkHtml = 'Like what you see? Visit the ' +\n",
              "            '<a target=\"_blank\" href=https://colab.research.google.com/notebooks/data_table.ipynb>data table notebook</a>'\n",
              "            + ' to learn more about interactive tables.';\n",
              "          element.innerHTML = '';\n",
              "          dataTable['output_type'] = 'display_data';\n",
              "          await google.colab.output.renderOutput(dataTable, element);\n",
              "          const docLink = document.createElement('div');\n",
              "          docLink.innerHTML = docLinkHtml;\n",
              "          element.appendChild(docLink);\n",
              "        }\n",
              "      </script>\n",
              "    </div>\n",
              "  </div>\n",
              "  "
            ]
          },
          "metadata": {},
          "execution_count": 7
        }
      ]
    },
    {
      "cell_type": "code",
      "source": [
        "part = np.random.rand(len(df)) < 0.9\n",
        "df_train = df[part]\n",
        "df_test = df[~part]\n",
        "\n",
        "print('test_set', len(df_test))\n",
        "print('training_set', len(df_train))"
      ],
      "metadata": {
        "colab": {
          "base_uri": "https://localhost:8080/"
        },
        "id": "CtDv7OomMnlp",
        "outputId": "27a82ab3-2cbd-4682-8fa4-de516bbc0032"
      },
      "execution_count": 8,
      "outputs": [
        {
          "output_type": "stream",
          "name": "stdout",
          "text": [
            "test_set 64\n",
            "training_set 505\n"
          ]
        }
      ]
    },
    {
      "cell_type": "code",
      "source": [
        "splits = IndexSplitter(list(range(int(len(df_train)*.8),len(df_train))))(range_of(df_train))"
      ],
      "metadata": {
        "id": "lpHRchpKNMb7"
      },
      "execution_count": 30,
      "outputs": []
    },
    {
      "cell_type": "code",
      "source": [
        "cls='diagnosis'\n",
        "procs = [Categorify, FillMissing, Normalize]\n",
        "to = TabularPandas(df_train, procs, [], list(df_train.columns)[2:-1], y_names=cls, splits=splits)\n",
        "dls = to.dataloaders(bs=64)\n",
        "dls.show_batch()"
      ],
      "metadata": {
        "colab": {
          "base_uri": "https://localhost:8080/",
          "height": 400
        },
        "id": "-GHguAUeOOsB",
        "outputId": "c7ec4243-9980-4247-8096-01269778e728"
      },
      "execution_count": 34,
      "outputs": [
        {
          "output_type": "display_data",
          "data": {
            "text/plain": [
              "<IPython.core.display.HTML object>"
            ],
            "text/html": [
              "<table border=\"1\" class=\"dataframe\">\n",
              "  <thead>\n",
              "    <tr style=\"text-align: right;\">\n",
              "      <th></th>\n",
              "      <th>radius_mean</th>\n",
              "      <th>texture_mean</th>\n",
              "      <th>perimeter_mean</th>\n",
              "      <th>area_mean</th>\n",
              "      <th>smoothness_mean</th>\n",
              "      <th>compactness_mean</th>\n",
              "      <th>concavity_mean</th>\n",
              "      <th>concave points_mean</th>\n",
              "      <th>symmetry_mean</th>\n",
              "      <th>fractal_dimension_mean</th>\n",
              "      <th>radius_se</th>\n",
              "      <th>texture_se</th>\n",
              "      <th>perimeter_se</th>\n",
              "      <th>area_se</th>\n",
              "      <th>smoothness_se</th>\n",
              "      <th>compactness_se</th>\n",
              "      <th>concavity_se</th>\n",
              "      <th>concave points_se</th>\n",
              "      <th>symmetry_se</th>\n",
              "      <th>fractal_dimension_se</th>\n",
              "      <th>radius_worst</th>\n",
              "      <th>texture_worst</th>\n",
              "      <th>perimeter_worst</th>\n",
              "      <th>area_worst</th>\n",
              "      <th>smoothness_worst</th>\n",
              "      <th>compactness_worst</th>\n",
              "      <th>concavity_worst</th>\n",
              "      <th>concave points_worst</th>\n",
              "      <th>symmetry_worst</th>\n",
              "      <th>fractal_dimension_worst</th>\n",
              "      <th>diagnosis</th>\n",
              "    </tr>\n",
              "  </thead>\n",
              "  <tbody>\n",
              "    <tr>\n",
              "      <th>0</th>\n",
              "      <td>10.880000</td>\n",
              "      <td>15.620000</td>\n",
              "      <td>70.410004</td>\n",
              "      <td>358.899994</td>\n",
              "      <td>0.10070</td>\n",
              "      <td>0.10690</td>\n",
              "      <td>0.05115</td>\n",
              "      <td>0.01571</td>\n",
              "      <td>0.1861</td>\n",
              "      <td>0.06837</td>\n",
              "      <td>0.1482</td>\n",
              "      <td>0.5380</td>\n",
              "      <td>1.3010</td>\n",
              "      <td>9.597002</td>\n",
              "      <td>0.004474</td>\n",
              "      <td>0.030930</td>\n",
              "      <td>2.757000e-02</td>\n",
              "      <td>0.006691</td>\n",
              "      <td>0.01212</td>\n",
              "      <td>0.004672</td>\n",
              "      <td>11.940</td>\n",
              "      <td>19.350000</td>\n",
              "      <td>80.779999</td>\n",
              "      <td>433.100006</td>\n",
              "      <td>0.13320</td>\n",
              "      <td>0.38980</td>\n",
              "      <td>0.33650</td>\n",
              "      <td>0.07966</td>\n",
              "      <td>0.2581</td>\n",
              "      <td>0.10800</td>\n",
              "      <td>B</td>\n",
              "    </tr>\n",
              "    <tr>\n",
              "      <th>1</th>\n",
              "      <td>12.000000</td>\n",
              "      <td>15.650000</td>\n",
              "      <td>76.949997</td>\n",
              "      <td>443.299988</td>\n",
              "      <td>0.09723</td>\n",
              "      <td>0.07165</td>\n",
              "      <td>0.04151</td>\n",
              "      <td>0.01863</td>\n",
              "      <td>0.2079</td>\n",
              "      <td>0.05968</td>\n",
              "      <td>0.2271</td>\n",
              "      <td>1.2550</td>\n",
              "      <td>1.4410</td>\n",
              "      <td>16.160000</td>\n",
              "      <td>0.005969</td>\n",
              "      <td>0.018120</td>\n",
              "      <td>2.007000e-02</td>\n",
              "      <td>0.007027</td>\n",
              "      <td>0.01972</td>\n",
              "      <td>0.002607</td>\n",
              "      <td>13.670</td>\n",
              "      <td>24.900000</td>\n",
              "      <td>87.779999</td>\n",
              "      <td>567.900024</td>\n",
              "      <td>0.13770</td>\n",
              "      <td>0.20030</td>\n",
              "      <td>0.22670</td>\n",
              "      <td>0.07632</td>\n",
              "      <td>0.3379</td>\n",
              "      <td>0.07924</td>\n",
              "      <td>B</td>\n",
              "    </tr>\n",
              "    <tr>\n",
              "      <th>2</th>\n",
              "      <td>13.080000</td>\n",
              "      <td>15.710000</td>\n",
              "      <td>85.629997</td>\n",
              "      <td>520.000000</td>\n",
              "      <td>0.10750</td>\n",
              "      <td>0.12700</td>\n",
              "      <td>0.04568</td>\n",
              "      <td>0.03110</td>\n",
              "      <td>0.1967</td>\n",
              "      <td>0.06811</td>\n",
              "      <td>0.1852</td>\n",
              "      <td>0.7477</td>\n",
              "      <td>1.3830</td>\n",
              "      <td>14.670000</td>\n",
              "      <td>0.004097</td>\n",
              "      <td>0.018980</td>\n",
              "      <td>1.698000e-02</td>\n",
              "      <td>0.006490</td>\n",
              "      <td>0.01678</td>\n",
              "      <td>0.002425</td>\n",
              "      <td>14.500</td>\n",
              "      <td>20.490000</td>\n",
              "      <td>96.089996</td>\n",
              "      <td>630.500000</td>\n",
              "      <td>0.13120</td>\n",
              "      <td>0.27760</td>\n",
              "      <td>0.18900</td>\n",
              "      <td>0.07283</td>\n",
              "      <td>0.3184</td>\n",
              "      <td>0.08183</td>\n",
              "      <td>B</td>\n",
              "    </tr>\n",
              "    <tr>\n",
              "      <th>3</th>\n",
              "      <td>12.340000</td>\n",
              "      <td>14.950000</td>\n",
              "      <td>78.290001</td>\n",
              "      <td>469.100006</td>\n",
              "      <td>0.08682</td>\n",
              "      <td>0.04571</td>\n",
              "      <td>0.02109</td>\n",
              "      <td>0.02054</td>\n",
              "      <td>0.1571</td>\n",
              "      <td>0.05708</td>\n",
              "      <td>0.3833</td>\n",
              "      <td>0.9078</td>\n",
              "      <td>2.6020</td>\n",
              "      <td>30.150000</td>\n",
              "      <td>0.007702</td>\n",
              "      <td>0.008491</td>\n",
              "      <td>1.307000e-02</td>\n",
              "      <td>0.010300</td>\n",
              "      <td>0.02970</td>\n",
              "      <td>0.001432</td>\n",
              "      <td>13.180</td>\n",
              "      <td>16.850000</td>\n",
              "      <td>84.110001</td>\n",
              "      <td>533.099976</td>\n",
              "      <td>0.10480</td>\n",
              "      <td>0.06744</td>\n",
              "      <td>0.04921</td>\n",
              "      <td>0.04793</td>\n",
              "      <td>0.2298</td>\n",
              "      <td>0.05974</td>\n",
              "      <td>B</td>\n",
              "    </tr>\n",
              "    <tr>\n",
              "      <th>4</th>\n",
              "      <td>7.760000</td>\n",
              "      <td>24.540001</td>\n",
              "      <td>47.919998</td>\n",
              "      <td>181.000000</td>\n",
              "      <td>0.05263</td>\n",
              "      <td>0.04362</td>\n",
              "      <td>0.00000</td>\n",
              "      <td>0.00000</td>\n",
              "      <td>0.1587</td>\n",
              "      <td>0.05884</td>\n",
              "      <td>0.3857</td>\n",
              "      <td>1.4280</td>\n",
              "      <td>2.5480</td>\n",
              "      <td>19.150000</td>\n",
              "      <td>0.007189</td>\n",
              "      <td>0.004660</td>\n",
              "      <td>1.862645e-09</td>\n",
              "      <td>0.000000</td>\n",
              "      <td>0.02676</td>\n",
              "      <td>0.002783</td>\n",
              "      <td>9.456</td>\n",
              "      <td>30.370001</td>\n",
              "      <td>59.160000</td>\n",
              "      <td>268.599976</td>\n",
              "      <td>0.08996</td>\n",
              "      <td>0.06444</td>\n",
              "      <td>0.00000</td>\n",
              "      <td>0.00000</td>\n",
              "      <td>0.2871</td>\n",
              "      <td>0.07039</td>\n",
              "      <td>B</td>\n",
              "    </tr>\n",
              "    <tr>\n",
              "      <th>5</th>\n",
              "      <td>13.710000</td>\n",
              "      <td>18.680000</td>\n",
              "      <td>88.730003</td>\n",
              "      <td>571.000000</td>\n",
              "      <td>0.09916</td>\n",
              "      <td>0.10700</td>\n",
              "      <td>0.05385</td>\n",
              "      <td>0.03783</td>\n",
              "      <td>0.1714</td>\n",
              "      <td>0.06843</td>\n",
              "      <td>0.3191</td>\n",
              "      <td>1.2490</td>\n",
              "      <td>2.2840</td>\n",
              "      <td>26.450001</td>\n",
              "      <td>0.006739</td>\n",
              "      <td>0.022510</td>\n",
              "      <td>2.086000e-02</td>\n",
              "      <td>0.013520</td>\n",
              "      <td>0.01870</td>\n",
              "      <td>0.003747</td>\n",
              "      <td>15.110</td>\n",
              "      <td>25.629999</td>\n",
              "      <td>99.430000</td>\n",
              "      <td>701.900024</td>\n",
              "      <td>0.14250</td>\n",
              "      <td>0.25660</td>\n",
              "      <td>0.19350</td>\n",
              "      <td>0.12840</td>\n",
              "      <td>0.2849</td>\n",
              "      <td>0.09031</td>\n",
              "      <td>B</td>\n",
              "    </tr>\n",
              "    <tr>\n",
              "      <th>6</th>\n",
              "      <td>11.950000</td>\n",
              "      <td>14.960001</td>\n",
              "      <td>77.230003</td>\n",
              "      <td>426.700012</td>\n",
              "      <td>0.11580</td>\n",
              "      <td>0.12060</td>\n",
              "      <td>0.01171</td>\n",
              "      <td>0.01787</td>\n",
              "      <td>0.2459</td>\n",
              "      <td>0.06581</td>\n",
              "      <td>0.3610</td>\n",
              "      <td>1.0500</td>\n",
              "      <td>2.4550</td>\n",
              "      <td>26.650000</td>\n",
              "      <td>0.005800</td>\n",
              "      <td>0.024170</td>\n",
              "      <td>7.816000e-03</td>\n",
              "      <td>0.010520</td>\n",
              "      <td>0.02734</td>\n",
              "      <td>0.003114</td>\n",
              "      <td>12.810</td>\n",
              "      <td>17.719999</td>\n",
              "      <td>83.089996</td>\n",
              "      <td>496.200012</td>\n",
              "      <td>0.12930</td>\n",
              "      <td>0.18850</td>\n",
              "      <td>0.03122</td>\n",
              "      <td>0.04766</td>\n",
              "      <td>0.3124</td>\n",
              "      <td>0.07590</td>\n",
              "      <td>B</td>\n",
              "    </tr>\n",
              "    <tr>\n",
              "      <th>7</th>\n",
              "      <td>12.870000</td>\n",
              "      <td>19.540001</td>\n",
              "      <td>82.669998</td>\n",
              "      <td>509.200012</td>\n",
              "      <td>0.09136</td>\n",
              "      <td>0.07883</td>\n",
              "      <td>0.01797</td>\n",
              "      <td>0.02090</td>\n",
              "      <td>0.1861</td>\n",
              "      <td>0.06347</td>\n",
              "      <td>0.3665</td>\n",
              "      <td>0.7693</td>\n",
              "      <td>2.5970</td>\n",
              "      <td>26.500000</td>\n",
              "      <td>0.005910</td>\n",
              "      <td>0.013620</td>\n",
              "      <td>7.066000e-03</td>\n",
              "      <td>0.006502</td>\n",
              "      <td>0.02223</td>\n",
              "      <td>0.002378</td>\n",
              "      <td>14.450</td>\n",
              "      <td>24.379999</td>\n",
              "      <td>95.139999</td>\n",
              "      <td>626.900024</td>\n",
              "      <td>0.12140</td>\n",
              "      <td>0.16520</td>\n",
              "      <td>0.07127</td>\n",
              "      <td>0.06384</td>\n",
              "      <td>0.3313</td>\n",
              "      <td>0.07735</td>\n",
              "      <td>B</td>\n",
              "    </tr>\n",
              "    <tr>\n",
              "      <th>8</th>\n",
              "      <td>20.940001</td>\n",
              "      <td>23.559999</td>\n",
              "      <td>138.899994</td>\n",
              "      <td>1364.000000</td>\n",
              "      <td>0.10070</td>\n",
              "      <td>0.16060</td>\n",
              "      <td>0.27120</td>\n",
              "      <td>0.13100</td>\n",
              "      <td>0.2205</td>\n",
              "      <td>0.05898</td>\n",
              "      <td>1.0040</td>\n",
              "      <td>0.8208</td>\n",
              "      <td>6.3720</td>\n",
              "      <td>137.899994</td>\n",
              "      <td>0.005283</td>\n",
              "      <td>0.039080</td>\n",
              "      <td>9.518000e-02</td>\n",
              "      <td>0.018640</td>\n",
              "      <td>0.02401</td>\n",
              "      <td>0.005002</td>\n",
              "      <td>25.580</td>\n",
              "      <td>27.000000</td>\n",
              "      <td>165.300003</td>\n",
              "      <td>2010.000000</td>\n",
              "      <td>0.12110</td>\n",
              "      <td>0.31720</td>\n",
              "      <td>0.69910</td>\n",
              "      <td>0.21050</td>\n",
              "      <td>0.3126</td>\n",
              "      <td>0.07849</td>\n",
              "      <td>M</td>\n",
              "    </tr>\n",
              "    <tr>\n",
              "      <th>9</th>\n",
              "      <td>12.340000</td>\n",
              "      <td>12.270000</td>\n",
              "      <td>78.940002</td>\n",
              "      <td>468.500000</td>\n",
              "      <td>0.09003</td>\n",
              "      <td>0.06307</td>\n",
              "      <td>0.02958</td>\n",
              "      <td>0.02647</td>\n",
              "      <td>0.1689</td>\n",
              "      <td>0.05808</td>\n",
              "      <td>0.1166</td>\n",
              "      <td>0.4957</td>\n",
              "      <td>0.7714</td>\n",
              "      <td>8.955000</td>\n",
              "      <td>0.003681</td>\n",
              "      <td>0.009169</td>\n",
              "      <td>8.732000e-03</td>\n",
              "      <td>0.005740</td>\n",
              "      <td>0.01129</td>\n",
              "      <td>0.001366</td>\n",
              "      <td>13.610</td>\n",
              "      <td>19.270000</td>\n",
              "      <td>87.220001</td>\n",
              "      <td>564.900024</td>\n",
              "      <td>0.12920</td>\n",
              "      <td>0.20740</td>\n",
              "      <td>0.17910</td>\n",
              "      <td>0.10700</td>\n",
              "      <td>0.3110</td>\n",
              "      <td>0.07592</td>\n",
              "      <td>B</td>\n",
              "    </tr>\n",
              "  </tbody>\n",
              "</table>"
            ]
          },
          "metadata": {}
        }
      ]
    },
    {
      "cell_type": "code",
      "source": [
        "learn = tabular_learner(dls, layers=[200,100], metrics=accuracy)\n",
        "learn.lr_find()"
      ],
      "metadata": {
        "colab": {
          "base_uri": "https://localhost:8080/",
          "height": 300
        },
        "id": "E4Hx2t69THj1",
        "outputId": "c5a337c2-9a96-493a-ea09-684df64d254a"
      },
      "execution_count": 36,
      "outputs": [
        {
          "output_type": "display_data",
          "data": {
            "text/plain": [
              "<IPython.core.display.HTML object>"
            ],
            "text/html": [
              "\n",
              "<style>\n",
              "    /* Turns off some styling */\n",
              "    progress {\n",
              "        /* gets rid of default border in Firefox and Opera. */\n",
              "        border: none;\n",
              "        /* Needs to be in here for Safari polyfill so background images work as expected. */\n",
              "        background-size: auto;\n",
              "    }\n",
              "    progress:not([value]), progress:not([value])::-webkit-progress-bar {\n",
              "        background: repeating-linear-gradient(45deg, #7e7e7e, #7e7e7e 10px, #5c5c5c 10px, #5c5c5c 20px);\n",
              "    }\n",
              "    .progress-bar-interrupted, .progress-bar-interrupted::-webkit-progress-bar {\n",
              "        background: #F44336;\n",
              "    }\n",
              "</style>\n"
            ]
          },
          "metadata": {}
        },
        {
          "output_type": "display_data",
          "data": {
            "text/plain": [
              "<IPython.core.display.HTML object>"
            ],
            "text/html": []
          },
          "metadata": {}
        },
        {
          "output_type": "execute_result",
          "data": {
            "text/plain": [
              "SuggestedLRs(valley=0.002511886414140463)"
            ]
          },
          "metadata": {},
          "execution_count": 36
        },
        {
          "output_type": "display_data",
          "data": {
            "text/plain": [
              "<Figure size 432x288 with 1 Axes>"
            ],
            "image/png": "[encoded data removed]"
          },
          "metadata": {
            "needs_background": "light"
          }
        }
      ]
    },
    {
      "cell_type": "code",
      "source": [
        "learn.fit(10,lr=10e-3)"
      ],
      "metadata": {
        "colab": {
          "base_uri": "https://localhost:8080/",
          "height": 363
        },
        "id": "ufc20v7PTryG",
        "outputId": "b096858a-f0e6-4cdd-a80d-745a698ab518"
      },
      "execution_count": 37,
      "outputs": [
        {
          "output_type": "display_data",
          "data": {
            "text/plain": [
              "<IPython.core.display.HTML object>"
            ],
            "text/html": [
              "\n",
              "<style>\n",
              "    /* Turns off some styling */\n",
              "    progress {\n",
              "        /* gets rid of default border in Firefox and Opera. */\n",
              "        border: none;\n",
              "        /* Needs to be in here for Safari polyfill so background images work as expected. */\n",
              "        background-size: auto;\n",
              "    }\n",
              "    progress:not([value]), progress:not([value])::-webkit-progress-bar {\n",
              "        background: repeating-linear-gradient(45deg, #7e7e7e, #7e7e7e 10px, #5c5c5c 10px, #5c5c5c 20px);\n",
              "    }\n",
              "    .progress-bar-interrupted, .progress-bar-interrupted::-webkit-progress-bar {\n",
              "        background: #F44336;\n",
              "    }\n",
              "</style>\n"
            ]
          },
          "metadata": {}
        },
        {
          "output_type": "display_data",
          "data": {
            "text/plain": [
              "<IPython.core.display.HTML object>"
            ],
            "text/html": [
              "<table border=\"1\" class=\"dataframe\">\n",
              "  <thead>\n",
              "    <tr style=\"text-align: left;\">\n",
              "      <th>epoch</th>\n",
              "      <th>train_loss</th>\n",
              "      <th>valid_loss</th>\n",
              "      <th>accuracy</th>\n",
              "      <th>time</th>\n",
              "    </tr>\n",
              "  </thead>\n",
              "  <tbody>\n",
              "    <tr>\n",
              "      <td>0</td>\n",
              "      <td>0.216377</td>\n",
              "      <td>0.106181</td>\n",
              "      <td>0.980198</td>\n",
              "      <td>00:00</td>\n",
              "    </tr>\n",
              "    <tr>\n",
              "      <td>1</td>\n",
              "      <td>0.217056</td>\n",
              "      <td>0.050027</td>\n",
              "      <td>0.990099</td>\n",
              "      <td>00:00</td>\n",
              "    </tr>\n",
              "    <tr>\n",
              "      <td>2</td>\n",
              "      <td>0.152939</td>\n",
              "      <td>0.023288</td>\n",
              "      <td>1.000000</td>\n",
              "      <td>00:00</td>\n",
              "    </tr>\n",
              "    <tr>\n",
              "      <td>3</td>\n",
              "      <td>0.131706</td>\n",
              "      <td>0.025833</td>\n",
              "      <td>0.980198</td>\n",
              "      <td>00:00</td>\n",
              "    </tr>\n",
              "    <tr>\n",
              "      <td>4</td>\n",
              "      <td>0.114391</td>\n",
              "      <td>0.049435</td>\n",
              "      <td>0.980198</td>\n",
              "      <td>00:00</td>\n",
              "    </tr>\n",
              "    <tr>\n",
              "      <td>5</td>\n",
              "      <td>0.101248</td>\n",
              "      <td>0.043451</td>\n",
              "      <td>0.990099</td>\n",
              "      <td>00:00</td>\n",
              "    </tr>\n",
              "    <tr>\n",
              "      <td>6</td>\n",
              "      <td>0.089460</td>\n",
              "      <td>0.033685</td>\n",
              "      <td>0.990099</td>\n",
              "      <td>00:00</td>\n",
              "    </tr>\n",
              "    <tr>\n",
              "      <td>7</td>\n",
              "      <td>0.084512</td>\n",
              "      <td>0.092898</td>\n",
              "      <td>0.950495</td>\n",
              "      <td>00:00</td>\n",
              "    </tr>\n",
              "    <tr>\n",
              "      <td>8</td>\n",
              "      <td>0.084504</td>\n",
              "      <td>0.072087</td>\n",
              "      <td>0.980198</td>\n",
              "      <td>00:00</td>\n",
              "    </tr>\n",
              "    <tr>\n",
              "      <td>9</td>\n",
              "      <td>0.073757</td>\n",
              "      <td>0.061605</td>\n",
              "      <td>0.980198</td>\n",
              "      <td>00:00</td>\n",
              "    </tr>\n",
              "  </tbody>\n",
              "</table>"
            ]
          },
          "metadata": {}
        }
      ]
    },
    {
      "cell_type": "code",
      "source": [
        "from sklearn.model_selection import StratifiedKFold"
      ],
      "metadata": {
        "id": "kHb1k88aOb7o"
      },
      "execution_count": 38,
      "outputs": []
    },
    {
      "cell_type": "code",
      "source": [
        "skf = StratifiedKFold(n_splits=10, shuffle=True, random_state=1)"
      ],
      "metadata": {
        "id": "0OCaGIQTOgkC"
      },
      "execution_count": 39,
      "outputs": []
    },
    {
      "cell_type": "code",
      "source": [
        "test_dl = dls.test_dl(df_test, with_labels=True)\n",
        "preds, target = learn.get_preds(dl=test_dl)\n",
        "print(accuracy(preds,target).item()*100)"
      ],
      "metadata": {
        "colab": {
          "base_uri": "https://localhost:8080/",
          "height": 34
        },
        "id": "_FnmvmTMUe9j",
        "outputId": "64adc6e4-02a3-4cfa-d4c6-a21d1c68cdfa"
      },
      "execution_count": 40,
      "outputs": [
        {
          "output_type": "display_data",
          "data": {
            "text/plain": [
              "<IPython.core.display.HTML object>"
            ],
            "text/html": [
              "\n",
              "<style>\n",
              "    /* Turns off some styling */\n",
              "    progress {\n",
              "        /* gets rid of default border in Firefox and Opera. */\n",
              "        border: none;\n",
              "        /* Needs to be in here for Safari polyfill so background images work as expected. */\n",
              "        background-size: auto;\n",
              "    }\n",
              "    progress:not([value]), progress:not([value])::-webkit-progress-bar {\n",
              "        background: repeating-linear-gradient(45deg, #7e7e7e, #7e7e7e 10px, #5c5c5c 10px, #5c5c5c 20px);\n",
              "    }\n",
              "    .progress-bar-interrupted, .progress-bar-interrupted::-webkit-progress-bar {\n",
              "        background: #F44336;\n",
              "    }\n",
              "</style>\n"
            ]
          },
          "metadata": {}
        },
        {
          "output_type": "display_data",
          "data": {
            "text/plain": [
              "<IPython.core.display.HTML object>"
            ],
            "text/html": []
          },
          "metadata": {}
        },
        {
          "output_type": "stream",
          "name": "stdout",
          "text": [
            "92.1875\n"
          ]
        }
      ]
    },
    {
      "cell_type": "code",
      "source": [
        "interp=ClassificationInterpretation.from_learner(learn)"
      ],
      "metadata": {
        "colab": {
          "base_uri": "https://localhost:8080/",
          "height": 17
        },
        "id": "woe1Erq9VMp3",
        "outputId": "714e355a-2344-4a12-a760-65d0e09a8d51"
      },
      "execution_count": 51,
      "outputs": [
        {
          "output_type": "display_data",
          "data": {
            "text/plain": [
              "<IPython.core.display.HTML object>"
            ],
            "text/html": [
              "\n",
              "<style>\n",
              "    /* Turns off some styling */\n",
              "    progress {\n",
              "        /* gets rid of default border in Firefox and Opera. */\n",
              "        border: none;\n",
              "        /* Needs to be in here for Safari polyfill so background images work as expected. */\n",
              "        background-size: auto;\n",
              "    }\n",
              "    progress:not([value]), progress:not([value])::-webkit-progress-bar {\n",
              "        background: repeating-linear-gradient(45deg, #7e7e7e, #7e7e7e 10px, #5c5c5c 10px, #5c5c5c 20px);\n",
              "    }\n",
              "    .progress-bar-interrupted, .progress-bar-interrupted::-webkit-progress-bar {\n",
              "        background: #F44336;\n",
              "    }\n",
              "</style>\n"
            ]
          },
          "metadata": {}
        },
        {
          "output_type": "display_data",
          "data": {
            "text/plain": [
              "<IPython.core.display.HTML object>"
            ],
            "text/html": []
          },
          "metadata": {}
        }
      ]
    },
    {
      "cell_type": "code",
      "source": [
        "interp.plot_confusion_matrix()"
      ],
      "metadata": {
        "colab": {
          "base_uri": "https://localhost:8080/",
          "height": 311
        },
        "id": "kvThcGgx_cuF",
        "outputId": "f6b05caf-dafd-455d-d2ac-394362f68e19"
      },
      "execution_count": 52,
      "outputs": [
        {
          "output_type": "display_data",
          "data": {
            "text/plain": [
              "<IPython.core.display.HTML object>"
            ],
            "text/html": [
              "\n",
              "<style>\n",
              "    /* Turns off some styling */\n",
              "    progress {\n",
              "        /* gets rid of default border in Firefox and Opera. */\n",
              "        border: none;\n",
              "        /* Needs to be in here for Safari polyfill so background images work as expected. */\n",
              "        background-size: auto;\n",
              "    }\n",
              "    progress:not([value]), progress:not([value])::-webkit-progress-bar {\n",
              "        background: repeating-linear-gradient(45deg, #7e7e7e, #7e7e7e 10px, #5c5c5c 10px, #5c5c5c 20px);\n",
              "    }\n",
              "    .progress-bar-interrupted, .progress-bar-interrupted::-webkit-progress-bar {\n",
              "        background: #F44336;\n",
              "    }\n",
              "</style>\n"
            ]
          },
          "metadata": {}
        },
        {
          "output_type": "display_data",
          "data": {
            "text/plain": [
              "<IPython.core.display.HTML object>"
            ],
            "text/html": []
          },
          "metadata": {}
        },
        {
          "output_type": "display_data",
          "data": {
            "text/plain": [
              "<Figure size 432x288 with 1 Axes>"
            ],
            "image/png": "[encoded data removed]"
          },
          "metadata": {
            "needs_background": "light"
          }
        }
      ]
    },
    {
      "cell_type": "code",
      "source": [
        "interp.print_classification_report()"
      ],
      "metadata": {
        "colab": {
          "base_uri": "https://localhost:8080/",
          "height": 173
        },
        "id": "0BTFEODb_2TJ",
        "outputId": "58fca0cf-255b-407c-81b5-2445c86f31e7"
      },
      "execution_count": 16,
      "outputs": [
        {
          "output_type": "display_data",
          "data": {
            "text/plain": [
              "<IPython.core.display.HTML object>"
            ],
            "text/html": [
              "\n",
              "<style>\n",
              "    /* Turns off some styling */\n",
              "    progress {\n",
              "        /* gets rid of default border in Firefox and Opera. */\n",
              "        border: none;\n",
              "        /* Needs to be in here for Safari polyfill so background images work as expected. */\n",
              "        background-size: auto;\n",
              "    }\n",
              "    progress:not([value]), progress:not([value])::-webkit-progress-bar {\n",
              "        background: repeating-linear-gradient(45deg, #7e7e7e, #7e7e7e 10px, #5c5c5c 10px, #5c5c5c 20px);\n",
              "    }\n",
              "    .progress-bar-interrupted, .progress-bar-interrupted::-webkit-progress-bar {\n",
              "        background: #F44336;\n",
              "    }\n",
              "</style>\n"
            ]
          },
          "metadata": {}
        },
        {
          "output_type": "display_data",
          "data": {
            "text/plain": [
              "<IPython.core.display.HTML object>"
            ],
            "text/html": []
          },
          "metadata": {}
        },
        {
          "output_type": "stream",
          "name": "stdout",
          "text": [
            "              precision    recall  f1-score   support\n",
            "\n",
            "           B       0.97      1.00      0.98        63\n",
            "           M       1.00      0.95      0.97        38\n",
            "\n",
            "    accuracy                           0.98       101\n",
            "   macro avg       0.98      0.97      0.98       101\n",
            "weighted avg       0.98      0.98      0.98       101\n",
            "\n"
          ]
        }
      ]
    },
    {
      "cell_type": "code",
      "source": [
        "val_pct = []\n",
        "test_pct = []\n",
        "for train_index, val_index in skf.split(df_train.index, df_train[cls]):\n",
        "  splits = (L(list(train_index)), L(list(val_index)))\n",
        "  to = TabularPandas(df_train, procs, [], list(df_train.columns)[2:-1], y_names=cls, splits=splits)\n",
        "  dls = to.dataloaders(bs=64)\n",
        "  learn = tabular_learner(dls, layers=[200,100], metrics=accuracy)\n",
        "  learn.fit(3, 1e-2)\n",
        "  \n",
        "  test_dl = dls.test_dl(df_test, with_labels=True)\n",
        "  \n",
        "  with learn.no_bar():\n",
        "    val_pct.append(learn.validate()[-1])\n",
        "    test_pct.append(learn.get_preds(dl=test_dl))"
      ],
      "metadata": {
        "colab": {
          "base_uri": "https://localhost:8080/",
          "height": 1000
        },
        "id": "8m_OLd37O7mU",
        "outputId": "05e0cdee-75ff-4a51-99d3-35cda0f5a2cb"
      },
      "execution_count": 47,
      "outputs": [
        {
          "output_type": "display_data",
          "data": {
            "text/plain": [
              "<IPython.core.display.HTML object>"
            ],
            "text/html": [
              "\n",
              "<style>\n",
              "    /* Turns off some styling */\n",
              "    progress {\n",
              "        /* gets rid of default border in Firefox and Opera. */\n",
              "        border: none;\n",
              "        /* Needs to be in here for Safari polyfill so background images work as expected. */\n",
              "        background-size: auto;\n",
              "    }\n",
              "    progress:not([value]), progress:not([value])::-webkit-progress-bar {\n",
              "        background: repeating-linear-gradient(45deg, #7e7e7e, #7e7e7e 10px, #5c5c5c 10px, #5c5c5c 20px);\n",
              "    }\n",
              "    .progress-bar-interrupted, .progress-bar-interrupted::-webkit-progress-bar {\n",
              "        background: #F44336;\n",
              "    }\n",
              "</style>\n"
            ]
          },
          "metadata": {}
        },
        {
          "output_type": "display_data",
          "data": {
            "text/plain": [
              "<IPython.core.display.HTML object>"
            ],
            "text/html": [
              "<table border=\"1\" class=\"dataframe\">\n",
              "  <thead>\n",
              "    <tr style=\"text-align: left;\">\n",
              "      <th>epoch</th>\n",
              "      <th>train_loss</th>\n",
              "      <th>valid_loss</th>\n",
              "      <th>accuracy</th>\n",
              "      <th>time</th>\n",
              "    </tr>\n",
              "  </thead>\n",
              "  <tbody>\n",
              "    <tr>\n",
              "      <td>0</td>\n",
              "      <td>0.257072</td>\n",
              "      <td>0.073275</td>\n",
              "      <td>1.000000</td>\n",
              "      <td>00:00</td>\n",
              "    </tr>\n",
              "    <tr>\n",
              "      <td>1</td>\n",
              "      <td>0.181299</td>\n",
              "      <td>0.050964</td>\n",
              "      <td>0.980392</td>\n",
              "      <td>00:00</td>\n",
              "    </tr>\n",
              "    <tr>\n",
              "      <td>2</td>\n",
              "      <td>0.144530</td>\n",
              "      <td>0.057643</td>\n",
              "      <td>0.980392</td>\n",
              "      <td>00:00</td>\n",
              "    </tr>\n",
              "  </tbody>\n",
              "</table>"
            ]
          },
          "metadata": {}
        },
        {
          "output_type": "display_data",
          "data": {
            "text/plain": [
              "<IPython.core.display.HTML object>"
            ],
            "text/html": [
              "\n",
              "<style>\n",
              "    /* Turns off some styling */\n",
              "    progress {\n",
              "        /* gets rid of default border in Firefox and Opera. */\n",
              "        border: none;\n",
              "        /* Needs to be in here for Safari polyfill so background images work as expected. */\n",
              "        background-size: auto;\n",
              "    }\n",
              "    progress:not([value]), progress:not([value])::-webkit-progress-bar {\n",
              "        background: repeating-linear-gradient(45deg, #7e7e7e, #7e7e7e 10px, #5c5c5c 10px, #5c5c5c 20px);\n",
              "    }\n",
              "    .progress-bar-interrupted, .progress-bar-interrupted::-webkit-progress-bar {\n",
              "        background: #F44336;\n",
              "    }\n",
              "</style>\n"
            ]
          },
          "metadata": {}
        },
        {
          "output_type": "display_data",
          "data": {
            "text/plain": [
              "<IPython.core.display.HTML object>"
            ],
            "text/html": [
              "<table border=\"1\" class=\"dataframe\">\n",
              "  <thead>\n",
              "    <tr style=\"text-align: left;\">\n",
              "      <th>epoch</th>\n",
              "      <th>train_loss</th>\n",
              "      <th>valid_loss</th>\n",
              "      <th>accuracy</th>\n",
              "      <th>time</th>\n",
              "    </tr>\n",
              "  </thead>\n",
              "  <tbody>\n",
              "    <tr>\n",
              "      <td>0</td>\n",
              "      <td>0.248697</td>\n",
              "      <td>0.082883</td>\n",
              "      <td>0.980392</td>\n",
              "      <td>00:00</td>\n",
              "    </tr>\n",
              "    <tr>\n",
              "      <td>1</td>\n",
              "      <td>0.151426</td>\n",
              "      <td>0.053884</td>\n",
              "      <td>0.980392</td>\n",
              "      <td>00:00</td>\n",
              "    </tr>\n",
              "    <tr>\n",
              "      <td>2</td>\n",
              "      <td>0.122547</td>\n",
              "      <td>0.021229</td>\n",
              "      <td>1.000000</td>\n",
              "      <td>00:00</td>\n",
              "    </tr>\n",
              "  </tbody>\n",
              "</table>"
            ]
          },
          "metadata": {}
        },
        {
          "output_type": "display_data",
          "data": {
            "text/plain": [
              "<IPython.core.display.HTML object>"
            ],
            "text/html": [
              "\n",
              "<style>\n",
              "    /* Turns off some styling */\n",
              "    progress {\n",
              "        /* gets rid of default border in Firefox and Opera. */\n",
              "        border: none;\n",
              "        /* Needs to be in here for Safari polyfill so background images work as expected. */\n",
              "        background-size: auto;\n",
              "    }\n",
              "    progress:not([value]), progress:not([value])::-webkit-progress-bar {\n",
              "        background: repeating-linear-gradient(45deg, #7e7e7e, #7e7e7e 10px, #5c5c5c 10px, #5c5c5c 20px);\n",
              "    }\n",
              "    .progress-bar-interrupted, .progress-bar-interrupted::-webkit-progress-bar {\n",
              "        background: #F44336;\n",
              "    }\n",
              "</style>\n"
            ]
          },
          "metadata": {}
        },
        {
          "output_type": "display_data",
          "data": {
            "text/plain": [
              "<IPython.core.display.HTML object>"
            ],
            "text/html": [
              "<table border=\"1\" class=\"dataframe\">\n",
              "  <thead>\n",
              "    <tr style=\"text-align: left;\">\n",
              "      <th>epoch</th>\n",
              "      <th>train_loss</th>\n",
              "      <th>valid_loss</th>\n",
              "      <th>accuracy</th>\n",
              "      <th>time</th>\n",
              "    </tr>\n",
              "  </thead>\n",
              "  <tbody>\n",
              "    <tr>\n",
              "      <td>0</td>\n",
              "      <td>0.249370</td>\n",
              "      <td>0.154228</td>\n",
              "      <td>0.921569</td>\n",
              "      <td>00:00</td>\n",
              "    </tr>\n",
              "    <tr>\n",
              "      <td>1</td>\n",
              "      <td>0.142205</td>\n",
              "      <td>0.124247</td>\n",
              "      <td>0.980392</td>\n",
              "      <td>00:00</td>\n",
              "    </tr>\n",
              "    <tr>\n",
              "      <td>2</td>\n",
              "      <td>0.101176</td>\n",
              "      <td>0.103686</td>\n",
              "      <td>0.960784</td>\n",
              "      <td>00:00</td>\n",
              "    </tr>\n",
              "  </tbody>\n",
              "</table>"
            ]
          },
          "metadata": {}
        },
        {
          "output_type": "display_data",
          "data": {
            "text/plain": [
              "<IPython.core.display.HTML object>"
            ],
            "text/html": [
              "\n",
              "<style>\n",
              "    /* Turns off some styling */\n",
              "    progress {\n",
              "        /* gets rid of default border in Firefox and Opera. */\n",
              "        border: none;\n",
              "        /* Needs to be in here for Safari polyfill so background images work as expected. */\n",
              "        background-size: auto;\n",
              "    }\n",
              "    progress:not([value]), progress:not([value])::-webkit-progress-bar {\n",
              "        background: repeating-linear-gradient(45deg, #7e7e7e, #7e7e7e 10px, #5c5c5c 10px, #5c5c5c 20px);\n",
              "    }\n",
              "    .progress-bar-interrupted, .progress-bar-interrupted::-webkit-progress-bar {\n",
              "        background: #F44336;\n",
              "    }\n",
              "</style>\n"
            ]
          },
          "metadata": {}
        },
        {
          "output_type": "display_data",
          "data": {
            "text/plain": [
              "<IPython.core.display.HTML object>"
            ],
            "text/html": [
              "<table border=\"1\" class=\"dataframe\">\n",
              "  <thead>\n",
              "    <tr style=\"text-align: left;\">\n",
              "      <th>epoch</th>\n",
              "      <th>train_loss</th>\n",
              "      <th>valid_loss</th>\n",
              "      <th>accuracy</th>\n",
              "      <th>time</th>\n",
              "    </tr>\n",
              "  </thead>\n",
              "  <tbody>\n",
              "    <tr>\n",
              "      <td>0</td>\n",
              "      <td>0.198047</td>\n",
              "      <td>0.123236</td>\n",
              "      <td>0.941176</td>\n",
              "      <td>00:00</td>\n",
              "    </tr>\n",
              "    <tr>\n",
              "      <td>1</td>\n",
              "      <td>0.128132</td>\n",
              "      <td>0.054593</td>\n",
              "      <td>0.960784</td>\n",
              "      <td>00:00</td>\n",
              "    </tr>\n",
              "    <tr>\n",
              "      <td>2</td>\n",
              "      <td>0.098920</td>\n",
              "      <td>0.049895</td>\n",
              "      <td>0.941176</td>\n",
              "      <td>00:00</td>\n",
              "    </tr>\n",
              "  </tbody>\n",
              "</table>"
            ]
          },
          "metadata": {}
        },
        {
          "output_type": "display_data",
          "data": {
            "text/plain": [
              "<IPython.core.display.HTML object>"
            ],
            "text/html": [
              "\n",
              "<style>\n",
              "    /* Turns off some styling */\n",
              "    progress {\n",
              "        /* gets rid of default border in Firefox and Opera. */\n",
              "        border: none;\n",
              "        /* Needs to be in here for Safari polyfill so background images work as expected. */\n",
              "        background-size: auto;\n",
              "    }\n",
              "    progress:not([value]), progress:not([value])::-webkit-progress-bar {\n",
              "        background: repeating-linear-gradient(45deg, #7e7e7e, #7e7e7e 10px, #5c5c5c 10px, #5c5c5c 20px);\n",
              "    }\n",
              "    .progress-bar-interrupted, .progress-bar-interrupted::-webkit-progress-bar {\n",
              "        background: #F44336;\n",
              "    }\n",
              "</style>\n"
            ]
          },
          "metadata": {}
        },
        {
          "output_type": "display_data",
          "data": {
            "text/plain": [
              "<IPython.core.display.HTML object>"
            ],
            "text/html": [
              "<table border=\"1\" class=\"dataframe\">\n",
              "  <thead>\n",
              "    <tr style=\"text-align: left;\">\n",
              "      <th>epoch</th>\n",
              "      <th>train_loss</th>\n",
              "      <th>valid_loss</th>\n",
              "      <th>accuracy</th>\n",
              "      <th>time</th>\n",
              "    </tr>\n",
              "  </thead>\n",
              "  <tbody>\n",
              "    <tr>\n",
              "      <td>0</td>\n",
              "      <td>0.239931</td>\n",
              "      <td>0.075507</td>\n",
              "      <td>1.000000</td>\n",
              "      <td>00:00</td>\n",
              "    </tr>\n",
              "    <tr>\n",
              "      <td>1</td>\n",
              "      <td>0.164354</td>\n",
              "      <td>0.033652</td>\n",
              "      <td>0.980392</td>\n",
              "      <td>00:00</td>\n",
              "    </tr>\n",
              "    <tr>\n",
              "      <td>2</td>\n",
              "      <td>0.157778</td>\n",
              "      <td>0.059016</td>\n",
              "      <td>0.980392</td>\n",
              "      <td>00:00</td>\n",
              "    </tr>\n",
              "  </tbody>\n",
              "</table>"
            ]
          },
          "metadata": {}
        },
        {
          "output_type": "display_data",
          "data": {
            "text/plain": [
              "<IPython.core.display.HTML object>"
            ],
            "text/html": [
              "\n",
              "<style>\n",
              "    /* Turns off some styling */\n",
              "    progress {\n",
              "        /* gets rid of default border in Firefox and Opera. */\n",
              "        border: none;\n",
              "        /* Needs to be in here for Safari polyfill so background images work as expected. */\n",
              "        background-size: auto;\n",
              "    }\n",
              "    progress:not([value]), progress:not([value])::-webkit-progress-bar {\n",
              "        background: repeating-linear-gradient(45deg, #7e7e7e, #7e7e7e 10px, #5c5c5c 10px, #5c5c5c 20px);\n",
              "    }\n",
              "    .progress-bar-interrupted, .progress-bar-interrupted::-webkit-progress-bar {\n",
              "        background: #F44336;\n",
              "    }\n",
              "</style>\n"
            ]
          },
          "metadata": {}
        },
        {
          "output_type": "display_data",
          "data": {
            "text/plain": [
              "<IPython.core.display.HTML object>"
            ],
            "text/html": [
              "<table border=\"1\" class=\"dataframe\">\n",
              "  <thead>\n",
              "    <tr style=\"text-align: left;\">\n",
              "      <th>epoch</th>\n",
              "      <th>train_loss</th>\n",
              "      <th>valid_loss</th>\n",
              "      <th>accuracy</th>\n",
              "      <th>time</th>\n",
              "    </tr>\n",
              "  </thead>\n",
              "  <tbody>\n",
              "    <tr>\n",
              "      <td>0</td>\n",
              "      <td>0.202206</td>\n",
              "      <td>0.106670</td>\n",
              "      <td>0.960000</td>\n",
              "      <td>00:00</td>\n",
              "    </tr>\n",
              "    <tr>\n",
              "      <td>1</td>\n",
              "      <td>0.133771</td>\n",
              "      <td>0.095964</td>\n",
              "      <td>0.940000</td>\n",
              "      <td>00:00</td>\n",
              "    </tr>\n",
              "    <tr>\n",
              "      <td>2</td>\n",
              "      <td>0.112896</td>\n",
              "      <td>0.044882</td>\n",
              "      <td>1.000000</td>\n",
              "      <td>00:00</td>\n",
              "    </tr>\n",
              "  </tbody>\n",
              "</table>"
            ]
          },
          "metadata": {}
        },
        {
          "output_type": "display_data",
          "data": {
            "text/plain": [
              "<IPython.core.display.HTML object>"
            ],
            "text/html": [
              "\n",
              "<style>\n",
              "    /* Turns off some styling */\n",
              "    progress {\n",
              "        /* gets rid of default border in Firefox and Opera. */\n",
              "        border: none;\n",
              "        /* Needs to be in here for Safari polyfill so background images work as expected. */\n",
              "        background-size: auto;\n",
              "    }\n",
              "    progress:not([value]), progress:not([value])::-webkit-progress-bar {\n",
              "        background: repeating-linear-gradient(45deg, #7e7e7e, #7e7e7e 10px, #5c5c5c 10px, #5c5c5c 20px);\n",
              "    }\n",
              "    .progress-bar-interrupted, .progress-bar-interrupted::-webkit-progress-bar {\n",
              "        background: #F44336;\n",
              "    }\n",
              "</style>\n"
            ]
          },
          "metadata": {}
        },
        {
          "output_type": "display_data",
          "data": {
            "text/plain": [
              "<IPython.core.display.HTML object>"
            ],
            "text/html": [
              "<table border=\"1\" class=\"dataframe\">\n",
              "  <thead>\n",
              "    <tr style=\"text-align: left;\">\n",
              "      <th>epoch</th>\n",
              "      <th>train_loss</th>\n",
              "      <th>valid_loss</th>\n",
              "      <th>accuracy</th>\n",
              "      <th>time</th>\n",
              "    </tr>\n",
              "  </thead>\n",
              "  <tbody>\n",
              "    <tr>\n",
              "      <td>0</td>\n",
              "      <td>0.234844</td>\n",
              "      <td>0.068619</td>\n",
              "      <td>1.000000</td>\n",
              "      <td>00:00</td>\n",
              "    </tr>\n",
              "    <tr>\n",
              "      <td>1</td>\n",
              "      <td>0.135807</td>\n",
              "      <td>0.012605</td>\n",
              "      <td>1.000000</td>\n",
              "      <td>00:00</td>\n",
              "    </tr>\n",
              "    <tr>\n",
              "      <td>2</td>\n",
              "      <td>0.113491</td>\n",
              "      <td>0.009060</td>\n",
              "      <td>1.000000</td>\n",
              "      <td>00:00</td>\n",
              "    </tr>\n",
              "  </tbody>\n",
              "</table>"
            ]
          },
          "metadata": {}
        },
        {
          "output_type": "display_data",
          "data": {
            "text/plain": [
              "<IPython.core.display.HTML object>"
            ],
            "text/html": [
              "\n",
              "<style>\n",
              "    /* Turns off some styling */\n",
              "    progress {\n",
              "        /* gets rid of default border in Firefox and Opera. */\n",
              "        border: none;\n",
              "        /* Needs to be in here for Safari polyfill so background images work as expected. */\n",
              "        background-size: auto;\n",
              "    }\n",
              "    progress:not([value]), progress:not([value])::-webkit-progress-bar {\n",
              "        background: repeating-linear-gradient(45deg, #7e7e7e, #7e7e7e 10px, #5c5c5c 10px, #5c5c5c 20px);\n",
              "    }\n",
              "    .progress-bar-interrupted, .progress-bar-interrupted::-webkit-progress-bar {\n",
              "        background: #F44336;\n",
              "    }\n",
              "</style>\n"
            ]
          },
          "metadata": {}
        },
        {
          "output_type": "display_data",
          "data": {
            "text/plain": [
              "<IPython.core.display.HTML object>"
            ],
            "text/html": [
              "<table border=\"1\" class=\"dataframe\">\n",
              "  <thead>\n",
              "    <tr style=\"text-align: left;\">\n",
              "      <th>epoch</th>\n",
              "      <th>train_loss</th>\n",
              "      <th>valid_loss</th>\n",
              "      <th>accuracy</th>\n",
              "      <th>time</th>\n",
              "    </tr>\n",
              "  </thead>\n",
              "  <tbody>\n",
              "    <tr>\n",
              "      <td>0</td>\n",
              "      <td>0.286327</td>\n",
              "      <td>0.131161</td>\n",
              "      <td>0.960000</td>\n",
              "      <td>00:00</td>\n",
              "    </tr>\n",
              "    <tr>\n",
              "      <td>1</td>\n",
              "      <td>0.170336</td>\n",
              "      <td>0.051342</td>\n",
              "      <td>0.960000</td>\n",
              "      <td>00:00</td>\n",
              "    </tr>\n",
              "    <tr>\n",
              "      <td>2</td>\n",
              "      <td>0.137613</td>\n",
              "      <td>0.048895</td>\n",
              "      <td>0.980000</td>\n",
              "      <td>00:00</td>\n",
              "    </tr>\n",
              "  </tbody>\n",
              "</table>"
            ]
          },
          "metadata": {}
        },
        {
          "output_type": "display_data",
          "data": {
            "text/plain": [
              "<IPython.core.display.HTML object>"
            ],
            "text/html": [
              "\n",
              "<style>\n",
              "    /* Turns off some styling */\n",
              "    progress {\n",
              "        /* gets rid of default border in Firefox and Opera. */\n",
              "        border: none;\n",
              "        /* Needs to be in here for Safari polyfill so background images work as expected. */\n",
              "        background-size: auto;\n",
              "    }\n",
              "    progress:not([value]), progress:not([value])::-webkit-progress-bar {\n",
              "        background: repeating-linear-gradient(45deg, #7e7e7e, #7e7e7e 10px, #5c5c5c 10px, #5c5c5c 20px);\n",
              "    }\n",
              "    .progress-bar-interrupted, .progress-bar-interrupted::-webkit-progress-bar {\n",
              "        background: #F44336;\n",
              "    }\n",
              "</style>\n"
            ]
          },
          "metadata": {}
        },
        {
          "output_type": "display_data",
          "data": {
            "text/plain": [
              "<IPython.core.display.HTML object>"
            ],
            "text/html": [
              "<table border=\"1\" class=\"dataframe\">\n",
              "  <thead>\n",
              "    <tr style=\"text-align: left;\">\n",
              "      <th>epoch</th>\n",
              "      <th>train_loss</th>\n",
              "      <th>valid_loss</th>\n",
              "      <th>accuracy</th>\n",
              "      <th>time</th>\n",
              "    </tr>\n",
              "  </thead>\n",
              "  <tbody>\n",
              "    <tr>\n",
              "      <td>0</td>\n",
              "      <td>0.201330</td>\n",
              "      <td>0.109709</td>\n",
              "      <td>0.960000</td>\n",
              "      <td>00:00</td>\n",
              "    </tr>\n",
              "    <tr>\n",
              "      <td>1</td>\n",
              "      <td>0.144519</td>\n",
              "      <td>0.102045</td>\n",
              "      <td>0.980000</td>\n",
              "      <td>00:00</td>\n",
              "    </tr>\n",
              "    <tr>\n",
              "      <td>2</td>\n",
              "      <td>0.104639</td>\n",
              "      <td>0.133258</td>\n",
              "      <td>0.980000</td>\n",
              "      <td>00:00</td>\n",
              "    </tr>\n",
              "  </tbody>\n",
              "</table>"
            ]
          },
          "metadata": {}
        },
        {
          "output_type": "display_data",
          "data": {
            "text/plain": [
              "<IPython.core.display.HTML object>"
            ],
            "text/html": [
              "\n",
              "<style>\n",
              "    /* Turns off some styling */\n",
              "    progress {\n",
              "        /* gets rid of default border in Firefox and Opera. */\n",
              "        border: none;\n",
              "        /* Needs to be in here for Safari polyfill so background images work as expected. */\n",
              "        background-size: auto;\n",
              "    }\n",
              "    progress:not([value]), progress:not([value])::-webkit-progress-bar {\n",
              "        background: repeating-linear-gradient(45deg, #7e7e7e, #7e7e7e 10px, #5c5c5c 10px, #5c5c5c 20px);\n",
              "    }\n",
              "    .progress-bar-interrupted, .progress-bar-interrupted::-webkit-progress-bar {\n",
              "        background: #F44336;\n",
              "    }\n",
              "</style>\n"
            ]
          },
          "metadata": {}
        },
        {
          "output_type": "display_data",
          "data": {
            "text/plain": [
              "<IPython.core.display.HTML object>"
            ],
            "text/html": [
              "<table border=\"1\" class=\"dataframe\">\n",
              "  <thead>\n",
              "    <tr style=\"text-align: left;\">\n",
              "      <th>epoch</th>\n",
              "      <th>train_loss</th>\n",
              "      <th>valid_loss</th>\n",
              "      <th>accuracy</th>\n",
              "      <th>time</th>\n",
              "    </tr>\n",
              "  </thead>\n",
              "  <tbody>\n",
              "    <tr>\n",
              "      <td>0</td>\n",
              "      <td>0.248730</td>\n",
              "      <td>0.065491</td>\n",
              "      <td>0.980000</td>\n",
              "      <td>00:00</td>\n",
              "    </tr>\n",
              "    <tr>\n",
              "      <td>1</td>\n",
              "      <td>0.164725</td>\n",
              "      <td>0.025147</td>\n",
              "      <td>1.000000</td>\n",
              "      <td>00:00</td>\n",
              "    </tr>\n",
              "    <tr>\n",
              "      <td>2</td>\n",
              "      <td>0.125465</td>\n",
              "      <td>0.040954</td>\n",
              "      <td>0.980000</td>\n",
              "      <td>00:00</td>\n",
              "    </tr>\n",
              "  </tbody>\n",
              "</table>"
            ]
          },
          "metadata": {}
        }
      ]
    },
    {
      "cell_type": "code",
      "source": [
        "for i, (pred, truth) in enumerate(test_pct):\n",
        "    print(f'Fold {i+1}: {accuracy(pred, truth)}')"
      ],
      "metadata": {
        "colab": {
          "base_uri": "https://localhost:8080/"
        },
        "id": "HVafQ8_LWlKh",
        "outputId": "14fd45f2-fe47-4b12-bacc-4c1b3a4f23de"
      },
      "execution_count": 49,
      "outputs": [
        {
          "output_type": "stream",
          "name": "stdout",
          "text": [
            "Fold 1: 0.921875\n",
            "Fold 2: 0.9375\n",
            "Fold 3: 0.9375\n",
            "Fold 4: 0.953125\n",
            "Fold 5: 0.9375\n",
            "Fold 6: 0.953125\n",
            "Fold 7: 0.953125\n",
            "Fold 8: 0.9375\n",
            "Fold 9: 0.921875\n",
            "Fold 10: 0.96875\n"
          ]
        }
      ]
    },
    {
      "cell_type": "code",
      "source": [
        "sum_preds = []\n",
        "for i, (pred, truth) in enumerate(test_pct):\n",
        "    sum_preds.append(pred.numpy())\n",
        "avg_preds = np.sum(sum_preds, axis=0) / 5\n",
        "print(f'Average Accuracy: {accuracy(tensor(avg_preds), test_pct[0][1])}')"
      ],
      "metadata": {
        "colab": {
          "base_uri": "https://localhost:8080/"
        },
        "id": "qpEkAuhKXO-T",
        "outputId": "aaae9421-9775-454d-d2b7-d1e330672555"
      },
      "execution_count": 50,
      "outputs": [
        {
          "output_type": "stream",
          "name": "stdout",
          "text": [
            "Average Accuracy: 0.953125\n"
          ]
        }
      ]
    },
    {
      "cell_type": "code",
      "source": [],
      "metadata": {
        "id": "TFqNzCISKbCl"
      },
      "execution_count": null,
      "outputs": []
    }
  ]
}